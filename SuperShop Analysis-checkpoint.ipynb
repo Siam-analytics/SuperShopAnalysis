{
 "cells": [
  {
   "cell_type": "code",
   "execution_count": 1,
   "id": "0ab1ed09",
   "metadata": {
    "collapsed": true
   },
   "outputs": [
    {
     "name": "stdout",
     "output_type": "stream",
     "text": [
      "Requirement already satisfied: seaborn in d:\\anaconda3\\lib\\site-packages (0.13.2)\n",
      "Requirement already satisfied: numpy!=1.24.0,>=1.20 in d:\\anaconda3\\lib\\site-packages (from seaborn) (1.24.3)\n",
      "Requirement already satisfied: pandas>=1.2 in d:\\anaconda3\\lib\\site-packages (from seaborn) (2.0.3)\n",
      "Requirement already satisfied: matplotlib!=3.6.1,>=3.4 in d:\\anaconda3\\lib\\site-packages (from seaborn) (3.8.2)\n",
      "Requirement already satisfied: contourpy>=1.0.1 in d:\\anaconda3\\lib\\site-packages (from matplotlib!=3.6.1,>=3.4->seaborn) (1.0.5)\n",
      "Requirement already satisfied: cycler>=0.10 in d:\\anaconda3\\lib\\site-packages (from matplotlib!=3.6.1,>=3.4->seaborn) (0.12.1)\n",
      "Requirement already satisfied: fonttools>=4.22.0 in d:\\anaconda3\\lib\\site-packages (from matplotlib!=3.6.1,>=3.4->seaborn) (4.46.0)\n",
      "Requirement already satisfied: kiwisolver>=1.3.1 in d:\\anaconda3\\lib\\site-packages (from matplotlib!=3.6.1,>=3.4->seaborn) (1.4.5)\n",
      "Requirement already satisfied: packaging>=20.0 in d:\\anaconda3\\lib\\site-packages (from matplotlib!=3.6.1,>=3.4->seaborn) (23.1)\n",
      "Requirement already satisfied: pillow>=8 in d:\\anaconda3\\lib\\site-packages (from matplotlib!=3.6.1,>=3.4->seaborn) (10.0.1)\n",
      "Requirement already satisfied: pyparsing>=2.3.1 in d:\\anaconda3\\lib\\site-packages (from matplotlib!=3.6.1,>=3.4->seaborn) (3.1.1)\n",
      "Requirement already satisfied: python-dateutil>=2.7 in d:\\anaconda3\\lib\\site-packages (from matplotlib!=3.6.1,>=3.4->seaborn) (2.8.2)\n",
      "Requirement already satisfied: pytz>=2020.1 in d:\\anaconda3\\lib\\site-packages (from pandas>=1.2->seaborn) (2023.3.post1)\n",
      "Requirement already satisfied: tzdata>=2022.1 in d:\\anaconda3\\lib\\site-packages (from pandas>=1.2->seaborn) (2023.3)\n",
      "Requirement already satisfied: six>=1.5 in d:\\anaconda3\\lib\\site-packages (from python-dateutil>=2.7->matplotlib!=3.6.1,>=3.4->seaborn) (1.16.0)\n"
     ]
    }
   ],
   "source": [
    "!pip install seaborn\n"
   ]
  },
  {
   "cell_type": "code",
   "execution_count": 27,
   "id": "b4011f29",
   "metadata": {},
   "outputs": [],
   "source": [
    "import pandas as pd\n",
    "import matplotlib.pyplot as plt\n",
    "import seaborn as sns\n",
    "from matplotlib.ticker import MultipleLocator\n",
    "from matplotlib.ticker import MaxNLocator\n",
    "from datetime import datetime"
   ]
  },
  {
   "cell_type": "code",
   "execution_count": 3,
   "id": "446f2ffe",
   "metadata": {},
   "outputs": [],
   "source": [
    "pd.set_option('display.max_rows', None)\n",
    "pd.set_option('display.max_columns', 500)"
   ]
  },
  {
   "cell_type": "code",
   "execution_count": 4,
   "id": "60c7e7ba",
   "metadata": {},
   "outputs": [],
   "source": [
    "d_parser = lambda x: datetime.strptime(x, '%m/%d/%Y')"
   ]
  },
  {
   "cell_type": "code",
   "execution_count": 5,
   "id": "75b6ab33",
   "metadata": {
    "collapsed": true
   },
   "outputs": [
    {
     "name": "stderr",
     "output_type": "stream",
     "text": [
      "C:\\Users\\HP\\AppData\\Local\\Temp\\ipykernel_2768\\2546437873.py:1: FutureWarning: The argument 'date_parser' is deprecated and will be removed in a future version. Please use 'date_format' instead, or read your data in as 'object' dtype and then call 'to_datetime'.\n",
      "  df = pd.read_csv(r\"C:\\Users\\HP\\Downloads\\super_shop_dataset.csv\", parse_dates=['Expiry_Date'], date_parser=d_parser)\n"
     ]
    }
   ],
   "source": [
    "df = pd.read_csv(r\"C:\\Users\\HP\\Downloads\\super_shop_dataset.csv\", parse_dates=['Expiry_Date'], date_parser=d_parser)"
   ]
  },
  {
   "cell_type": "code",
   "execution_count": 6,
   "id": "d5e78209",
   "metadata": {},
   "outputs": [
    {
     "data": {
      "text/html": [
       "<div>\n",
       "<style scoped>\n",
       "    .dataframe tbody tr th:only-of-type {\n",
       "        vertical-align: middle;\n",
       "    }\n",
       "\n",
       "    .dataframe tbody tr th {\n",
       "        vertical-align: top;\n",
       "    }\n",
       "\n",
       "    .dataframe thead th {\n",
       "        text-align: right;\n",
       "    }\n",
       "</style>\n",
       "<table border=\"1\" class=\"dataframe\">\n",
       "  <thead>\n",
       "    <tr style=\"text-align: right;\">\n",
       "      <th></th>\n",
       "      <th>Product_ID</th>\n",
       "      <th>Category</th>\n",
       "      <th>Sub_Category</th>\n",
       "      <th>Brand</th>\n",
       "      <th>Product_Name</th>\n",
       "      <th>Price</th>\n",
       "      <th>Discount</th>\n",
       "      <th>Final_Price</th>\n",
       "      <th>Stock</th>\n",
       "      <th>Sold_Quantity</th>\n",
       "      <th>Rating</th>\n",
       "      <th>Reviews</th>\n",
       "      <th>Supplier</th>\n",
       "      <th>Purchase_Cost</th>\n",
       "      <th>Profit</th>\n",
       "      <th>Expiry_Date</th>\n",
       "      <th>Manufacturing_Date</th>\n",
       "      <th>Warehouse_Location</th>\n",
       "      <th>Shelf_Number</th>\n",
       "      <th>Customer_Age</th>\n",
       "      <th>Customer_Gender</th>\n",
       "      <th>Customer_Type</th>\n",
       "      <th>Payment_Method</th>\n",
       "      <th>Transaction_ID</th>\n",
       "      <th>Order_Status</th>\n",
       "      <th>Delivery_Time</th>\n",
       "      <th>Return_Status</th>\n",
       "      <th>Employee_ID</th>\n",
       "      <th>Shift</th>\n",
       "      <th>Feedback</th>\n",
       "    </tr>\n",
       "  </thead>\n",
       "  <tbody>\n",
       "    <tr>\n",
       "      <th>0</th>\n",
       "      <td>P1000</td>\n",
       "      <td>Toys</td>\n",
       "      <td>Chairs</td>\n",
       "      <td>Nike</td>\n",
       "      <td>Item_D</td>\n",
       "      <td>2684</td>\n",
       "      <td>23</td>\n",
       "      <td>2066.68</td>\n",
       "      <td>192</td>\n",
       "      <td>21</td>\n",
       "      <td>1.5</td>\n",
       "      <td>427</td>\n",
       "      <td>Supplier_C</td>\n",
       "      <td>2535</td>\n",
       "      <td>-468.32</td>\n",
       "      <td>2025-01-01</td>\n",
       "      <td>1/1/2024</td>\n",
       "      <td>Location_C</td>\n",
       "      <td>33</td>\n",
       "      <td>41</td>\n",
       "      <td>Male</td>\n",
       "      <td>Regular</td>\n",
       "      <td>Mobile Payment</td>\n",
       "      <td>T50000</td>\n",
       "      <td>Pending</td>\n",
       "      <td>2</td>\n",
       "      <td>Not Returned</td>\n",
       "      <td>801</td>\n",
       "      <td>Morning</td>\n",
       "      <td>Average</td>\n",
       "    </tr>\n",
       "    <tr>\n",
       "      <th>1</th>\n",
       "      <td>P1001</td>\n",
       "      <td>Clothing</td>\n",
       "      <td>Vegetables</td>\n",
       "      <td>Samsung</td>\n",
       "      <td>Item_A</td>\n",
       "      <td>2704</td>\n",
       "      <td>15</td>\n",
       "      <td>2298.40</td>\n",
       "      <td>21</td>\n",
       "      <td>62</td>\n",
       "      <td>2.6</td>\n",
       "      <td>383</td>\n",
       "      <td>Supplier_B</td>\n",
       "      <td>1180</td>\n",
       "      <td>1118.40</td>\n",
       "      <td>2025-01-02</td>\n",
       "      <td>1/2/2024</td>\n",
       "      <td>Location_B</td>\n",
       "      <td>22</td>\n",
       "      <td>32</td>\n",
       "      <td>Female</td>\n",
       "      <td>Regular</td>\n",
       "      <td>Credit Card</td>\n",
       "      <td>T50001</td>\n",
       "      <td>Completed</td>\n",
       "      <td>12</td>\n",
       "      <td>Not Returned</td>\n",
       "      <td>173</td>\n",
       "      <td>Evening</td>\n",
       "      <td>Good</td>\n",
       "    </tr>\n",
       "    <tr>\n",
       "      <th>2</th>\n",
       "      <td>P1002</td>\n",
       "      <td>Toys</td>\n",
       "      <td>Vegetables</td>\n",
       "      <td>Apple</td>\n",
       "      <td>Item_C</td>\n",
       "      <td>3173</td>\n",
       "      <td>6</td>\n",
       "      <td>2982.62</td>\n",
       "      <td>66</td>\n",
       "      <td>11</td>\n",
       "      <td>3.9</td>\n",
       "      <td>50</td>\n",
       "      <td>Supplier_A</td>\n",
       "      <td>2588</td>\n",
       "      <td>394.62</td>\n",
       "      <td>2025-01-03</td>\n",
       "      <td>1/3/2024</td>\n",
       "      <td>Location_C</td>\n",
       "      <td>46</td>\n",
       "      <td>57</td>\n",
       "      <td>Male</td>\n",
       "      <td>New</td>\n",
       "      <td>Credit Card</td>\n",
       "      <td>T50002</td>\n",
       "      <td>Pending</td>\n",
       "      <td>7</td>\n",
       "      <td>Returned</td>\n",
       "      <td>974</td>\n",
       "      <td>Evening</td>\n",
       "      <td>Average</td>\n",
       "    </tr>\n",
       "    <tr>\n",
       "      <th>3</th>\n",
       "      <td>P1003</td>\n",
       "      <td>Furniture</td>\n",
       "      <td>Laptop</td>\n",
       "      <td>Sony</td>\n",
       "      <td>Item_D</td>\n",
       "      <td>4320</td>\n",
       "      <td>26</td>\n",
       "      <td>3196.80</td>\n",
       "      <td>180</td>\n",
       "      <td>9</td>\n",
       "      <td>4.5</td>\n",
       "      <td>106</td>\n",
       "      <td>Supplier_A</td>\n",
       "      <td>567</td>\n",
       "      <td>2629.80</td>\n",
       "      <td>2025-01-04</td>\n",
       "      <td>1/4/2024</td>\n",
       "      <td>Location_C</td>\n",
       "      <td>42</td>\n",
       "      <td>18</td>\n",
       "      <td>Male</td>\n",
       "      <td>VIP</td>\n",
       "      <td>Credit Card</td>\n",
       "      <td>T50003</td>\n",
       "      <td>Cancelled</td>\n",
       "      <td>13</td>\n",
       "      <td>Not Returned</td>\n",
       "      <td>206</td>\n",
       "      <td>Morning</td>\n",
       "      <td>Good</td>\n",
       "    </tr>\n",
       "    <tr>\n",
       "      <th>4</th>\n",
       "      <td>P1004</td>\n",
       "      <td>Furniture</td>\n",
       "      <td>Shirt</td>\n",
       "      <td>Samsung</td>\n",
       "      <td>Item_B</td>\n",
       "      <td>2557</td>\n",
       "      <td>34</td>\n",
       "      <td>1687.62</td>\n",
       "      <td>81</td>\n",
       "      <td>73</td>\n",
       "      <td>2.0</td>\n",
       "      <td>72</td>\n",
       "      <td>Supplier_C</td>\n",
       "      <td>3272</td>\n",
       "      <td>-1584.38</td>\n",
       "      <td>2025-01-05</td>\n",
       "      <td>1/5/2024</td>\n",
       "      <td>Location_C</td>\n",
       "      <td>23</td>\n",
       "      <td>57</td>\n",
       "      <td>Female</td>\n",
       "      <td>Regular</td>\n",
       "      <td>Mobile Payment</td>\n",
       "      <td>T50004</td>\n",
       "      <td>Pending</td>\n",
       "      <td>11</td>\n",
       "      <td>Returned</td>\n",
       "      <td>994</td>\n",
       "      <td>Evening</td>\n",
       "      <td>Good</td>\n",
       "    </tr>\n",
       "  </tbody>\n",
       "</table>\n",
       "</div>"
      ],
      "text/plain": [
       "  Product_ID   Category Sub_Category    Brand Product_Name  Price  Discount  \\\n",
       "0      P1000       Toys       Chairs     Nike       Item_D   2684        23   \n",
       "1      P1001   Clothing   Vegetables  Samsung       Item_A   2704        15   \n",
       "2      P1002       Toys   Vegetables    Apple       Item_C   3173         6   \n",
       "3      P1003  Furniture       Laptop     Sony       Item_D   4320        26   \n",
       "4      P1004  Furniture        Shirt  Samsung       Item_B   2557        34   \n",
       "\n",
       "   Final_Price  Stock  Sold_Quantity  Rating  Reviews    Supplier  \\\n",
       "0      2066.68    192             21     1.5      427  Supplier_C   \n",
       "1      2298.40     21             62     2.6      383  Supplier_B   \n",
       "2      2982.62     66             11     3.9       50  Supplier_A   \n",
       "3      3196.80    180              9     4.5      106  Supplier_A   \n",
       "4      1687.62     81             73     2.0       72  Supplier_C   \n",
       "\n",
       "   Purchase_Cost   Profit Expiry_Date Manufacturing_Date Warehouse_Location  \\\n",
       "0           2535  -468.32  2025-01-01           1/1/2024         Location_C   \n",
       "1           1180  1118.40  2025-01-02           1/2/2024         Location_B   \n",
       "2           2588   394.62  2025-01-03           1/3/2024         Location_C   \n",
       "3            567  2629.80  2025-01-04           1/4/2024         Location_C   \n",
       "4           3272 -1584.38  2025-01-05           1/5/2024         Location_C   \n",
       "\n",
       "   Shelf_Number  Customer_Age Customer_Gender Customer_Type  Payment_Method  \\\n",
       "0            33            41            Male       Regular  Mobile Payment   \n",
       "1            22            32          Female       Regular     Credit Card   \n",
       "2            46            57            Male           New     Credit Card   \n",
       "3            42            18            Male           VIP     Credit Card   \n",
       "4            23            57          Female       Regular  Mobile Payment   \n",
       "\n",
       "  Transaction_ID Order_Status  Delivery_Time Return_Status  Employee_ID  \\\n",
       "0         T50000      Pending              2  Not Returned          801   \n",
       "1         T50001    Completed             12  Not Returned          173   \n",
       "2         T50002      Pending              7      Returned          974   \n",
       "3         T50003    Cancelled             13  Not Returned          206   \n",
       "4         T50004      Pending             11      Returned          994   \n",
       "\n",
       "     Shift Feedback  \n",
       "0  Morning  Average  \n",
       "1  Evening     Good  \n",
       "2  Evening  Average  \n",
       "3  Morning     Good  \n",
       "4  Evening     Good  "
      ]
     },
     "execution_count": 6,
     "metadata": {},
     "output_type": "execute_result"
    }
   ],
   "source": [
    "df.head(5)"
   ]
  },
  {
   "cell_type": "markdown",
   "id": "1e6fea73",
   "metadata": {},
   "source": [
    "1. Cleaning The Data"
   ]
  },
  {
   "cell_type": "code",
   "execution_count": 7,
   "id": "c42c1d8c",
   "metadata": {},
   "outputs": [
    {
     "data": {
      "text/plain": [
       "(5000, 30)"
      ]
     },
     "execution_count": 7,
     "metadata": {},
     "output_type": "execute_result"
    }
   ],
   "source": [
    "df.shape"
   ]
  },
  {
   "cell_type": "code",
   "execution_count": 8,
   "id": "9cc9fec8",
   "metadata": {},
   "outputs": [
    {
     "data": {
      "text/plain": [
       "Product_ID                    object\n",
       "Category                      object\n",
       "Sub_Category                  object\n",
       "Brand                         object\n",
       "Product_Name                  object\n",
       "Price                          int64\n",
       "Discount                       int64\n",
       "Final_Price                  float64\n",
       "Stock                          int64\n",
       "Sold_Quantity                  int64\n",
       "Rating                       float64\n",
       "Reviews                        int64\n",
       "Supplier                      object\n",
       "Purchase_Cost                  int64\n",
       "Profit                       float64\n",
       "Expiry_Date           datetime64[ns]\n",
       "Manufacturing_Date            object\n",
       "Warehouse_Location            object\n",
       "Shelf_Number                   int64\n",
       "Customer_Age                   int64\n",
       "Customer_Gender               object\n",
       "Customer_Type                 object\n",
       "Payment_Method                object\n",
       "Transaction_ID                object\n",
       "Order_Status                  object\n",
       "Delivery_Time                  int64\n",
       "Return_Status                 object\n",
       "Employee_ID                    int64\n",
       "Shift                         object\n",
       "Feedback                      object\n",
       "dtype: object"
      ]
     },
     "execution_count": 8,
     "metadata": {},
     "output_type": "execute_result"
    }
   ],
   "source": [
    "df.dtypes"
   ]
  },
  {
   "cell_type": "code",
   "execution_count": 9,
   "id": "ab7d20d7",
   "metadata": {},
   "outputs": [
    {
     "data": {
      "text/html": [
       "<div>\n",
       "<style scoped>\n",
       "    .dataframe tbody tr th:only-of-type {\n",
       "        vertical-align: middle;\n",
       "    }\n",
       "\n",
       "    .dataframe tbody tr th {\n",
       "        vertical-align: top;\n",
       "    }\n",
       "\n",
       "    .dataframe thead th {\n",
       "        text-align: right;\n",
       "    }\n",
       "</style>\n",
       "<table border=\"1\" class=\"dataframe\">\n",
       "  <thead>\n",
       "    <tr style=\"text-align: right;\">\n",
       "      <th></th>\n",
       "      <th>Product_ID</th>\n",
       "      <th>Category</th>\n",
       "      <th>Sub_Category</th>\n",
       "      <th>Brand</th>\n",
       "      <th>Product_Name</th>\n",
       "      <th>Price</th>\n",
       "      <th>Discount</th>\n",
       "      <th>Final_Price</th>\n",
       "      <th>Stock</th>\n",
       "      <th>Sold_Quantity</th>\n",
       "      <th>Rating</th>\n",
       "      <th>Reviews</th>\n",
       "      <th>Supplier</th>\n",
       "      <th>Purchase_Cost</th>\n",
       "      <th>Profit</th>\n",
       "      <th>Expiry_Date</th>\n",
       "      <th>Manufacturing_Date</th>\n",
       "      <th>Warehouse_Location</th>\n",
       "      <th>Shelf_Number</th>\n",
       "      <th>Customer_Age</th>\n",
       "      <th>Customer_Gender</th>\n",
       "      <th>Customer_Type</th>\n",
       "      <th>Payment_Method</th>\n",
       "      <th>Transaction_ID</th>\n",
       "      <th>Order_Status</th>\n",
       "      <th>Delivery_Time</th>\n",
       "      <th>Return_Status</th>\n",
       "      <th>Employee_ID</th>\n",
       "      <th>Shift</th>\n",
       "      <th>Feedback</th>\n",
       "    </tr>\n",
       "  </thead>\n",
       "  <tbody>\n",
       "    <tr>\n",
       "      <th>0</th>\n",
       "      <td>P1000</td>\n",
       "      <td>Toys</td>\n",
       "      <td>Chairs</td>\n",
       "      <td>Nike</td>\n",
       "      <td>Item_D</td>\n",
       "      <td>2684</td>\n",
       "      <td>23</td>\n",
       "      <td>2066.68</td>\n",
       "      <td>192</td>\n",
       "      <td>21</td>\n",
       "      <td>1.5</td>\n",
       "      <td>427</td>\n",
       "      <td>Supplier_C</td>\n",
       "      <td>2535</td>\n",
       "      <td>-468.32</td>\n",
       "      <td>2025-01-01</td>\n",
       "      <td>1/1/2024</td>\n",
       "      <td>Location_C</td>\n",
       "      <td>33</td>\n",
       "      <td>41</td>\n",
       "      <td>Male</td>\n",
       "      <td>Regular</td>\n",
       "      <td>Mobile Payment</td>\n",
       "      <td>T50000</td>\n",
       "      <td>Pending</td>\n",
       "      <td>2</td>\n",
       "      <td>Not Returned</td>\n",
       "      <td>801</td>\n",
       "      <td>Morning</td>\n",
       "      <td>Average</td>\n",
       "    </tr>\n",
       "    <tr>\n",
       "      <th>1</th>\n",
       "      <td>P1001</td>\n",
       "      <td>Clothing</td>\n",
       "      <td>Vegetables</td>\n",
       "      <td>Samsung</td>\n",
       "      <td>Item_A</td>\n",
       "      <td>2704</td>\n",
       "      <td>15</td>\n",
       "      <td>2298.40</td>\n",
       "      <td>21</td>\n",
       "      <td>62</td>\n",
       "      <td>2.6</td>\n",
       "      <td>383</td>\n",
       "      <td>Supplier_B</td>\n",
       "      <td>1180</td>\n",
       "      <td>1118.40</td>\n",
       "      <td>2025-01-02</td>\n",
       "      <td>1/2/2024</td>\n",
       "      <td>Location_B</td>\n",
       "      <td>22</td>\n",
       "      <td>32</td>\n",
       "      <td>Female</td>\n",
       "      <td>Regular</td>\n",
       "      <td>Credit Card</td>\n",
       "      <td>T50001</td>\n",
       "      <td>Completed</td>\n",
       "      <td>12</td>\n",
       "      <td>Not Returned</td>\n",
       "      <td>173</td>\n",
       "      <td>Evening</td>\n",
       "      <td>Good</td>\n",
       "    </tr>\n",
       "    <tr>\n",
       "      <th>2</th>\n",
       "      <td>P1002</td>\n",
       "      <td>Toys</td>\n",
       "      <td>Vegetables</td>\n",
       "      <td>Apple</td>\n",
       "      <td>Item_C</td>\n",
       "      <td>3173</td>\n",
       "      <td>6</td>\n",
       "      <td>2982.62</td>\n",
       "      <td>66</td>\n",
       "      <td>11</td>\n",
       "      <td>3.9</td>\n",
       "      <td>50</td>\n",
       "      <td>Supplier_A</td>\n",
       "      <td>2588</td>\n",
       "      <td>394.62</td>\n",
       "      <td>2025-01-03</td>\n",
       "      <td>1/3/2024</td>\n",
       "      <td>Location_C</td>\n",
       "      <td>46</td>\n",
       "      <td>57</td>\n",
       "      <td>Male</td>\n",
       "      <td>New</td>\n",
       "      <td>Credit Card</td>\n",
       "      <td>T50002</td>\n",
       "      <td>Pending</td>\n",
       "      <td>7</td>\n",
       "      <td>Returned</td>\n",
       "      <td>974</td>\n",
       "      <td>Evening</td>\n",
       "      <td>Average</td>\n",
       "    </tr>\n",
       "    <tr>\n",
       "      <th>3</th>\n",
       "      <td>P1003</td>\n",
       "      <td>Furniture</td>\n",
       "      <td>Laptop</td>\n",
       "      <td>Sony</td>\n",
       "      <td>Item_D</td>\n",
       "      <td>4320</td>\n",
       "      <td>26</td>\n",
       "      <td>3196.80</td>\n",
       "      <td>180</td>\n",
       "      <td>9</td>\n",
       "      <td>4.5</td>\n",
       "      <td>106</td>\n",
       "      <td>Supplier_A</td>\n",
       "      <td>567</td>\n",
       "      <td>2629.80</td>\n",
       "      <td>2025-01-04</td>\n",
       "      <td>1/4/2024</td>\n",
       "      <td>Location_C</td>\n",
       "      <td>42</td>\n",
       "      <td>18</td>\n",
       "      <td>Male</td>\n",
       "      <td>VIP</td>\n",
       "      <td>Credit Card</td>\n",
       "      <td>T50003</td>\n",
       "      <td>Cancelled</td>\n",
       "      <td>13</td>\n",
       "      <td>Not Returned</td>\n",
       "      <td>206</td>\n",
       "      <td>Morning</td>\n",
       "      <td>Good</td>\n",
       "    </tr>\n",
       "    <tr>\n",
       "      <th>4</th>\n",
       "      <td>P1004</td>\n",
       "      <td>Furniture</td>\n",
       "      <td>Shirt</td>\n",
       "      <td>Samsung</td>\n",
       "      <td>Item_B</td>\n",
       "      <td>2557</td>\n",
       "      <td>34</td>\n",
       "      <td>1687.62</td>\n",
       "      <td>81</td>\n",
       "      <td>73</td>\n",
       "      <td>2.0</td>\n",
       "      <td>72</td>\n",
       "      <td>Supplier_C</td>\n",
       "      <td>3272</td>\n",
       "      <td>-1584.38</td>\n",
       "      <td>2025-01-05</td>\n",
       "      <td>1/5/2024</td>\n",
       "      <td>Location_C</td>\n",
       "      <td>23</td>\n",
       "      <td>57</td>\n",
       "      <td>Female</td>\n",
       "      <td>Regular</td>\n",
       "      <td>Mobile Payment</td>\n",
       "      <td>T50004</td>\n",
       "      <td>Pending</td>\n",
       "      <td>11</td>\n",
       "      <td>Returned</td>\n",
       "      <td>994</td>\n",
       "      <td>Evening</td>\n",
       "      <td>Good</td>\n",
       "    </tr>\n",
       "  </tbody>\n",
       "</table>\n",
       "</div>"
      ],
      "text/plain": [
       "  Product_ID   Category Sub_Category    Brand Product_Name  Price  Discount  \\\n",
       "0      P1000       Toys       Chairs     Nike       Item_D   2684        23   \n",
       "1      P1001   Clothing   Vegetables  Samsung       Item_A   2704        15   \n",
       "2      P1002       Toys   Vegetables    Apple       Item_C   3173         6   \n",
       "3      P1003  Furniture       Laptop     Sony       Item_D   4320        26   \n",
       "4      P1004  Furniture        Shirt  Samsung       Item_B   2557        34   \n",
       "\n",
       "   Final_Price  Stock  Sold_Quantity  Rating  Reviews    Supplier  \\\n",
       "0      2066.68    192             21     1.5      427  Supplier_C   \n",
       "1      2298.40     21             62     2.6      383  Supplier_B   \n",
       "2      2982.62     66             11     3.9       50  Supplier_A   \n",
       "3      3196.80    180              9     4.5      106  Supplier_A   \n",
       "4      1687.62     81             73     2.0       72  Supplier_C   \n",
       "\n",
       "   Purchase_Cost   Profit Expiry_Date Manufacturing_Date Warehouse_Location  \\\n",
       "0           2535  -468.32  2025-01-01           1/1/2024         Location_C   \n",
       "1           1180  1118.40  2025-01-02           1/2/2024         Location_B   \n",
       "2           2588   394.62  2025-01-03           1/3/2024         Location_C   \n",
       "3            567  2629.80  2025-01-04           1/4/2024         Location_C   \n",
       "4           3272 -1584.38  2025-01-05           1/5/2024         Location_C   \n",
       "\n",
       "   Shelf_Number  Customer_Age Customer_Gender Customer_Type  Payment_Method  \\\n",
       "0            33            41            Male       Regular  Mobile Payment   \n",
       "1            22            32          Female       Regular     Credit Card   \n",
       "2            46            57            Male           New     Credit Card   \n",
       "3            42            18            Male           VIP     Credit Card   \n",
       "4            23            57          Female       Regular  Mobile Payment   \n",
       "\n",
       "  Transaction_ID Order_Status  Delivery_Time Return_Status  Employee_ID  \\\n",
       "0         T50000      Pending              2  Not Returned          801   \n",
       "1         T50001    Completed             12  Not Returned          173   \n",
       "2         T50002      Pending              7      Returned          974   \n",
       "3         T50003    Cancelled             13  Not Returned          206   \n",
       "4         T50004      Pending             11      Returned          994   \n",
       "\n",
       "     Shift Feedback  \n",
       "0  Morning  Average  \n",
       "1  Evening     Good  \n",
       "2  Evening  Average  \n",
       "3  Morning     Good  \n",
       "4  Evening     Good  "
      ]
     },
     "execution_count": 9,
     "metadata": {},
     "output_type": "execute_result"
    }
   ],
   "source": [
    "df.dropna().head(5)"
   ]
  },
  {
   "cell_type": "code",
   "execution_count": 10,
   "id": "1d3369e4",
   "metadata": {},
   "outputs": [],
   "source": [
    "# totalstockvalue\n",
    "df['Stock_Value'] = df['Stock'] * df['Final_Price']\n",
    "\n"
   ]
  },
  {
   "cell_type": "code",
   "execution_count": 11,
   "id": "b1064f15",
   "metadata": {},
   "outputs": [],
   "source": [
    "#Remove any rows that are exactly the same across all columns. Keep the first instance\n",
    "df = df.drop_duplicates()\n"
   ]
  },
  {
   "cell_type": "code",
   "execution_count": 12,
   "id": "05dd9340",
   "metadata": {},
   "outputs": [],
   "source": [
    "#renaming columns\n",
    "df = df.rename(columns={'Delivery_Time': 'Delivery_Time(Days)'})"
   ]
  },
  {
   "cell_type": "markdown",
   "id": "915abc8f",
   "metadata": {},
   "source": [
    "2. Analyzing The Data\n"
   ]
  },
  {
   "cell_type": "code",
   "execution_count": 13,
   "id": "5f37d715",
   "metadata": {},
   "outputs": [
    {
     "name": "stdout",
     "output_type": "stream",
     "text": [
      "-600.19K\n"
     ]
    }
   ],
   "source": [
    "#Total profit\n",
    "formatted = f\"{(df['Profit'].sum())/1000:.2f}K\"\n",
    "print(formatted)\n"
   ]
  },
  {
   "cell_type": "code",
   "execution_count": 14,
   "id": "2f42c8f8",
   "metadata": {},
   "outputs": [
    {
     "data": {
      "text/plain": [
       "7.569"
      ]
     },
     "execution_count": 14,
     "metadata": {},
     "output_type": "execute_result"
    }
   ],
   "source": [
    "#AvgDeliveryTime in Days\n",
    "df['Delivery_Time(Days)'].mean()\n"
   ]
  },
  {
   "cell_type": "code",
   "execution_count": 15,
   "id": "cf6c6793",
   "metadata": {},
   "outputs": [
    {
     "data": {
      "text/plain": [
       "3.00966"
      ]
     },
     "execution_count": 15,
     "metadata": {},
     "output_type": "execute_result"
    }
   ],
   "source": [
    "df['Rating'].mean()"
   ]
  },
  {
   "cell_type": "code",
   "execution_count": 16,
   "id": "4dbafbd0",
   "metadata": {},
   "outputs": [
    {
     "name": "stdout",
     "output_type": "stream",
     "text": [
      "947.92M\n"
     ]
    }
   ],
   "source": [
    "#TotalStock\n",
    "totalstock = f\"{df['Stock_Value'].sum()/1000000:0.2f}M\"\n",
    "print(totalstock)\n"
   ]
  },
  {
   "cell_type": "code",
   "execution_count": 17,
   "id": "fad7b043",
   "metadata": {},
   "outputs": [
    {
     "name": "stdout",
     "output_type": "stream",
     "text": [
      "0.5074%\n"
     ]
    }
   ],
   "source": [
    "#return rate\n",
    "\n",
    "returned = f\"{(df['Return_Status'] == 'Returned').sum() / len(df['Return_Status'])}%\"\n",
    "\n",
    "print(returned)\n"
   ]
  },
  {
   "cell_type": "code",
   "execution_count": 18,
   "id": "feea1b93",
   "metadata": {},
   "outputs": [
    {
     "name": "stdout",
     "output_type": "stream",
     "text": [
      "0.49\n"
     ]
    }
   ],
   "source": [
    "StockTurnover = f\"{df['Sold_Quantity'].sum()/df['Stock'].sum():0.2f}\"\n",
    "print(StockTurnover)"
   ]
  },
  {
   "cell_type": "code",
   "execution_count": 19,
   "id": "fc3d46ef",
   "metadata": {},
   "outputs": [
    {
     "name": "stdout",
     "output_type": "stream",
     "text": [
      "-0.13%\n"
     ]
    }
   ],
   "source": [
    "#profitmargin\n",
    "total_profit = df['Profit'].sum()\n",
    "\n",
    "total_revenue = (df['Final_Price'] * df['Sold_Quantity']).sum()\n",
    "\n",
    "profit_margin_percentage = (total_profit / total_revenue) * 100\n",
    "\n",
    "print(f\"{profit_margin_percentage:.2f}%\")\n"
   ]
  },
  {
   "cell_type": "code",
   "execution_count": 38,
   "id": "9a14ce0b",
   "metadata": {},
   "outputs": [
    {
     "name": "stdout",
     "output_type": "stream",
     "text": [
      "471.32M\n"
     ]
    }
   ],
   "source": [
    "#totalrevenue\n",
    "total_revenue = f\"{(df['Final_Price'] * df['Sold_Quantity']).sum()/1000000:0.2f}M\"\n",
    "print(total_revenue)\n"
   ]
  },
  {
   "cell_type": "code",
   "execution_count": 21,
   "id": "636278ba",
   "metadata": {},
   "outputs": [
    {
     "name": "stdout",
     "output_type": "stream",
     "text": [
      "1674\n"
     ]
    }
   ],
   "source": [
    "total_orders_completed = (df['Order_Status'] == 'Completed').sum()\n",
    "print(total_orders_completed)\n"
   ]
  },
  {
   "cell_type": "code",
   "execution_count": 39,
   "id": "78d810cd",
   "metadata": {},
   "outputs": [
    {
     "name": "stdout",
     "output_type": "stream",
     "text": [
      "Category\n",
      "Clothing       196.286594\n",
      "Groceries      192.250427\n",
      "Electronics    192.178023\n",
      "Toys           186.010739\n",
      "Furniture      181.189791\n",
      "Name: Stock_Value, dtype: float64\n"
     ]
    },
    {
     "data": {
      "image/png": "[encoded data removed]",
      "text/plain": [
       "<Figure size 800x480 with 1 Axes>"
      ]
     },
     "metadata": {},
     "output_type": "display_data"
    }
   ],
   "source": [
    "#Category Vs Stock\n",
    "df['Stock_Value'] = df['Stock'] * df['Final_Price'] / 1000000  # Convert to millions\n",
    "\n",
    "category_stock_value = df.groupby('Category')['Stock_Value'].sum()\n",
    "\n",
    "category_stock_value = category_stock_value.sort_values(ascending=False)\n",
    "\n",
    "print(category_stock_value.head())\n",
    "\n",
    "plt.figure(figsize=(10, 6), dpi=80)\n",
    "\n",
    "ax = category_stock_value.plot(kind='barh', color='#096192')\n",
    "\n",
    "# Title and labels\n",
    "plt.title('Category vs Stock Value', fontsize=14)\n",
    "plt.xlabel('Stock Value (in millions)', fontsize=12)\n",
    "plt.ylabel('Category', fontsize=12)\n",
    "\n",
    "ax.set_xlim(0, 250)  \n",
    "ax.set_xticks(range(0, 251, 50))  \n",
    "\n",
    "for i in ax.patches:\n",
    "    stock_value_in_m = i.get_width() \n",
    "    ax.text(i.get_width() + 0.1, i.get_y() + i.get_height() / 2, \n",
    "            f'{stock_value_in_m:.1f}M',  \n",
    "            va='center', fontsize=10, color='black')\n",
    "\n",
    "# Show the plot\n",
    "plt.show()"
   ]
  },
  {
   "cell_type": "code",
   "execution_count": 23,
   "id": "a61d322d",
   "metadata": {},
   "outputs": [
    {
     "data": {
      "image/png": "[encoded data removed]",
      "text/plain": [
       "<Figure size 1000x600 with 1 Axes>"
      ]
     },
     "metadata": {},
     "output_type": "display_data"
    }
   ],
   "source": [
    "#Brand Vs Sold_Quantity\n",
    "\n",
    "brand_sales = df.groupby('Brand')['Sold_Quantity'].sum()\n",
    "\n",
    "brand_sales = brand_sales.sort_values(ascending=False)\n",
    "\n",
    "ax = brand_sales.plot(kind='bar', figsize=(10, 6), color='#096192')\n",
    "\n",
    "plt.title('Brand vs Sold Quantity', fontsize=14)\n",
    "plt.xlabel('Brand', fontsize=12)\n",
    "plt.ylabel('Sold Quantity', fontsize=12)\n",
    "\n",
    "for i in ax.patches:\n",
    "    sold_qty_in_k = i.get_height() / 1000  # Convert to 'K'\n",
    "    ax.text(i.get_x() + i.get_width() / 2, i.get_height() + 10,  \n",
    "            f'{sold_qty_in_k:.1f}K',  \n",
    "            ha='center', va='bottom', fontsize=10, color='black')\n",
    "\n",
    "plt.xticks(rotation=45) \n",
    "plt.show()\n"
   ]
  },
  {
   "cell_type": "code",
   "execution_count": 24,
   "id": "bc8508d7",
   "metadata": {},
   "outputs": [
    {
     "data": {
      "image/png": "[encoded data removed]",
      "text/plain": [
       "<Figure size 640x480 with 1 Axes>"
      ]
     },
     "metadata": {},
     "output_type": "display_data"
    }
   ],
   "source": [
    "#Scatter Plot\n",
    "grouped = df.groupby(['Brand', 'Discount'])['Sold_Quantity'].sum().reset_index()\n",
    "\n",
    "fig, ax = plt.subplots()\n",
    "\n",
    "for brand, data in grouped.groupby('Brand'):\n",
    "    ax.scatter(data['Discount']/100, data['Sold_Quantity'], label=brand)\n",
    "\n",
    "ax.set_xlabel('Discount')\n",
    "ax.set_ylabel('Total Sold Quantity')\n",
    "ax.legend(title='Brand', bbox_to_anchor=(1.05, 1), loc='upper left')\n",
    "ax.yaxis.set_major_locator(MultipleLocator(500))\n",
    "plt.tight_layout() \n",
    "plt.show()"
   ]
  },
  {
   "cell_type": "code",
   "execution_count": null,
   "id": "0046b514",
   "metadata": {},
   "outputs": [],
   "source": []
  },
  {
   "cell_type": "code",
   "execution_count": null,
   "id": "b94db2ef",
   "metadata": {},
   "outputs": [],
   "source": []
  }
 ],
 "metadata": {
  "kernelspec": {
   "display_name": "Python 3 (ipykernel)",
   "language": "python",
   "name": "python3"
  },
  "language_info": {
   "codemirror_mode": {
    "name": "ipython",
    "version": 3
   },
   "file_extension": ".py",
   "mimetype": "text/x-python",
   "name": "python",
   "nbconvert_exporter": "python",
   "pygments_lexer": "ipython3",
   "version": "3.11.5"
  }
 },
 "nbformat": 4,
 "nbformat_minor": 5
}
